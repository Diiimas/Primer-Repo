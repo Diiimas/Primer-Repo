{
 "cells": [
  {
   "cell_type": "code",
   "execution_count": 3,
   "metadata": {},
   "outputs": [
    {
     "name": "stdout",
     "output_type": "stream",
     "text": [
      "el numero es positivo\n"
     ]
    }
   ],
   "source": [
    "a1 = 9\n",
    "if (a1 < 0):\n",
    "    print (\"el numero es negativo\")\n",
    "elif (a1 > 0):\n",
    "    print (\"el numero es positivo\")\n"
   ]
  },
  {
   "cell_type": "code",
   "execution_count": 6,
   "metadata": {},
   "outputs": [
    {
     "name": "stdout",
     "output_type": "stream",
     "text": [
      "Distintos tipos de datos\n"
     ]
    }
   ],
   "source": [
    "a2 = \"dato\"\n",
    "a3 = 6\n",
    "if (type(a2) == type(a3)):\n",
    "    print (\"Misma clase de dato\")\n",
    "elif (type (a2) != type (a3)):\n",
    "    print (\"Distintos tipos de datos\")\n"
   ]
  },
  {
   "cell_type": "markdown",
   "metadata": {},
   "source": [
    "Ejercicio 3"
   ]
  },
  {
   "cell_type": "code",
   "execution_count": 5,
   "metadata": {},
   "outputs": [
    {
     "name": "stdout",
     "output_type": "stream",
     "text": [
      "el numero 1 es impar\n",
      "El numero 2 es par\n",
      "el numero 3 es impar\n",
      "El numero 4 es par\n",
      "el numero 5 es impar\n",
      "El numero 6 es par\n",
      "el numero 7 es impar\n",
      "El numero 8 es par\n",
      "el numero 9 es impar\n",
      "El numero 10 es par\n",
      "el numero 11 es impar\n",
      "El numero 12 es par\n",
      "el numero 13 es impar\n",
      "El numero 14 es par\n",
      "el numero 15 es impar\n",
      "El numero 16 es par\n",
      "el numero 17 es impar\n",
      "El numero 18 es par\n",
      "el numero 19 es impar\n",
      "El numero 20 es par\n"
     ]
    }
   ],
   "source": [
    "for i in range (1, 21):\n",
    "    if (i % 2 == 0):\n",
    "        print(\"El numero\", i ,\"es par\")\n",
    "    elif (i % 2 != 0):\n",
    "        print(\"el numero\", i ,\"es impar\")\n"
   ]
  },
  {
   "cell_type": "markdown",
   "metadata": {},
   "source": [
    "Ejecicio 4"
   ]
  },
  {
   "cell_type": "code",
   "execution_count": 7,
   "metadata": {},
   "outputs": [
    {
     "name": "stdout",
     "output_type": "stream",
     "text": [
      "el numero 0 elevado a la tercer potencia es 0\n",
      "el numero 1 elevado a la tercer potencia es 1\n",
      "el numero 2 elevado a la tercer potencia es 8\n",
      "el numero 3 elevado a la tercer potencia es 27\n",
      "el numero 4 elevado a la tercer potencia es 64\n",
      "el numero 5 elevado a la tercer potencia es 125\n"
     ]
    }
   ],
   "source": [
    "for b in range (0,6):\n",
    "    print(\"el numero\", b , \"elevado a la tercer potencia es\", b**3)\n",
    "    "
   ]
  },
  {
   "cell_type": "markdown",
   "metadata": {},
   "source": [
    "Ejecicio 5"
   ]
  },
  {
   "cell_type": "code",
   "execution_count": 8,
   "metadata": {},
   "outputs": [],
   "source": [
    "c = 5\n",
    "d = 1\n",
    "for i in range(d, c):\n",
    "    continue"
   ]
  },
  {
   "cell_type": "markdown",
   "metadata": {},
   "source": [
    "Ejecicio 6"
   ]
  },
  {
   "cell_type": "code",
   "execution_count": null,
   "metadata": {},
   "outputs": [],
   "source": []
  }
 ],
 "metadata": {
  "kernelspec": {
   "display_name": "Python 3.10.6 64-bit",
   "language": "python",
   "name": "python3"
  },
  "language_info": {
   "codemirror_mode": {
    "name": "ipython",
    "version": 3
   },
   "file_extension": ".py",
   "mimetype": "text/x-python",
   "name": "python",
   "nbconvert_exporter": "python",
   "pygments_lexer": "ipython3",
   "version": "3.10.6"
  },
  "orig_nbformat": 4,
  "vscode": {
   "interpreter": {
    "hash": "110fe3fb9777db4ce1f884af3cc527a40b2c98427ad17781c021ef692bd3d28d"
   }
  }
 },
 "nbformat": 4,
 "nbformat_minor": 2
}
